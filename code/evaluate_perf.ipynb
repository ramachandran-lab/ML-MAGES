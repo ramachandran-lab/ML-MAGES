{
 "cells": [
  {
   "cell_type": "code",
   "execution_count": 1,
   "id": "0c5a515b-e61b-455d-9343-65e3f3513deb",
   "metadata": {},
   "outputs": [],
   "source": [
    "import os\n",
    "import sys\n",
    "import numpy as np\n",
    "import pandas as pd\n",
    "import scipy as sp\n",
    "from tqdm import tqdm\n",
    "from pandas_plink import read_plink\n",
    "import itertools\n",
    "\n",
    "import ml_mages\n",
    "import _sim_funcs as sf"
   ]
  },
  {
   "cell_type": "code",
   "execution_count": 2,
   "id": "2141b6a0-6a18-420f-b829-2653edd7d5c2",
   "metadata": {},
   "outputs": [],
   "source": [
    "model_path = '../trained_models/genotyped_simulated_training'\n",
    "data_path = \"../data\"\n",
    "\n",
    "geno_path = os.path.join(data_path,\"real_for_sim\")\n",
    "ld_path = os.path.join(data_path,\"real_for_sim\") \n",
    "gene_list_file = os.path.join(data_path,\"genelist.csv\")\n",
    "\n",
    "sim_path = os.path.join(data_path,\"simulation\",\"sim_gene_mlmt\")\n",
    "output_path = os.path.join(data_path,\"simulation\",\"sim_gene_mlmt\",\"perf\")\n",
    "if not os.path.exists(output_path):\n",
    "    os.makedirs(output_path)"
   ]
  },
  {
   "cell_type": "code",
   "execution_count": 3,
   "id": "aeac6197-2be6-4dc0-8c63-e9909879e429",
   "metadata": {},
   "outputs": [],
   "source": [
    "# simulation and evaluation settings\n",
    "chr = 15\n",
    "n_traits = 3\n",
    "n_sim = 30\n",
    "perf_types = ['rmse','wrmse','pcorr','aps']\n",
    "base_rec = np.linspace(0, 1, 101)\n",
    "method = \"ENET\"# \"ML-MAGES(2L)\" # \n",
    "# model to load\n",
    "n_layer, top_r = 2, 15"
   ]
  },
  {
   "cell_type": "code",
   "execution_count": 4,
   "id": "d8262cc0-dbd1-4449-88ca-df29589b2955",
   "metadata": {},
   "outputs": [],
   "source": [
    "# multivariate gene-level analysis settings\n",
    "sig_threshold = 0.05\n",
    "causal_types = [(1,),(2,),(3,),(1,2),(1,2,3)]\n",
    "\n",
    "rad_thre = np.pi/12 # 15 degree\n",
    "eigval_times_thre = 5\n",
    "sig_cls_thre = 0.7"
   ]
  },
  {
   "cell_type": "markdown",
   "id": "3389f2c4-e062-49fc-bd2d-9fd39692e6c9",
   "metadata": {},
   "source": [
    "# Load\n",
    "### load trained models"
   ]
  },
  {
   "cell_type": "code",
   "execution_count": 5,
   "id": "dc988257-ca09-4f3d-aded-e6b9897860f7",
   "metadata": {},
   "outputs": [
    {
     "data": {
      "text/plain": [
       "Fc2(\n",
       "  (hidden1): Linear(in_features=33, out_features=64, bias=True)\n",
       "  (bn1): BatchNorm1d(64, eps=1e-05, momentum=0.1, affine=True, track_running_stats=True)\n",
       "  (act1): ReLU()\n",
       "  (dropout1): Dropout(p=0.2, inplace=False)\n",
       "  (hidden2): Linear(in_features=64, out_features=8, bias=True)\n",
       "  (bn2): BatchNorm1d(8, eps=1e-05, momentum=0.1, affine=True, track_running_stats=True)\n",
       "  (act2): ReLU()\n",
       "  (dropout2): Dropout(p=0.1, inplace=False)\n",
       "  (output): Linear(in_features=8, out_features=1, bias=True)\n",
       ")"
      ]
     },
     "execution_count": 5,
     "metadata": {},
     "output_type": "execute_result"
    }
   ],
   "source": [
    "model = ml_mages.load_model(model_path,n_layer,top_r)\n",
    "model.eval()"
   ]
  },
  {
   "cell_type": "markdown",
   "id": "77d678b6-29fc-49ac-8f80-fba56351ab3a",
   "metadata": {},
   "source": [
    "### load LD data"
   ]
  },
  {
   "cell_type": "code",
   "execution_count": 6,
   "id": "b26db4ff-bab0-4374-83b2-1039832d2375",
   "metadata": {},
   "outputs": [
    {
     "name": "stdout",
     "output_type": "stream",
     "text": [
      "Chr 15, LD size: 15250x15250\n"
     ]
    }
   ],
   "source": [
    "chr = 15\n",
    "# load full LD \n",
    "ld_file = os.path.join(ld_path,\"ukb_chr{}.qced.ld\".format(chr))\n",
    "chr_ld = np.loadtxt(ld_file)\n",
    "print(\"Chr {}, LD size: {}x{}\".format(chr, chr_ld.shape[0],chr_ld.shape[1]))\n",
    "J = chr_ld.shape[0] #15250\n",
    "\n",
    "# load LD blocks\n",
    "n_snps_per_blk = 1000\n",
    "brkpts = np.loadtxt(os.path.join(ld_path,\"blocks_chr{}_ws{}.txt\".format(chr,n_snps_per_blk)), delimiter=',').astype(int) \n",
    "brkpts = np.insert(brkpts,0,0)\n",
    "brkpts = np.insert(brkpts,len(brkpts),J)"
   ]
  },
  {
   "cell_type": "markdown",
   "id": "8a68a82d-b9a3-4db0-9254-0e2736de4766",
   "metadata": {},
   "source": [
    "### load gene data"
   ]
  },
  {
   "cell_type": "code",
   "execution_count": 7,
   "id": "f93ccfb7-19e2-4441-b840-078e450a68c7",
   "metadata": {},
   "outputs": [
    {
     "name": "stdout",
     "output_type": "stream",
     "text": [
      "(15250, 7) (15250, 326302)\n"
     ]
    }
   ],
   "source": [
    "# load genotype data\n",
    "(bim, fam, bed) = read_plink(os.path.join(geno_path, \"ukb_chr{}.qced.bed\".format(chr)),verbose=False)\n",
    "print(bim.shape, bed.shape)\n",
    "\n",
    "# load gene data\n",
    "min_gene_size = 10\n",
    "gene_list = pd.read_csv(gene_list_file)\n",
    "all_pos = bim[\"pos\"].values\n",
    "# process genes: filter for those with enough number of variants\n",
    "genes_chr = sf.process_gene_list(gene_list, all_pos, chr, min_gene_size=min_gene_size)"
   ]
  },
  {
   "cell_type": "markdown",
   "id": "0831b016-681e-4853-85b3-63cf98a74b62",
   "metadata": {},
   "source": [
    "# Evaluate"
   ]
  },
  {
   "cell_type": "code",
   "execution_count": null,
   "id": "a2b10313-da08-4b82-b42b-0b9bde437dfa",
   "metadata": {},
   "outputs": [
    {
     "name": "stderr",
     "output_type": "stream",
     "text": [
      "  7%|▋         | 2/30 [05:56<1:21:35, 174.84s/it]/oscar/home/xliu293/pytorch.venv/lib64/python3.9/site-packages/sklearn/metrics/_classification.py:1471: UndefinedMetricWarning: Precision and F-score are ill-defined and being set to 0.0 due to no predicted samples. Use `zero_division` parameter to control this behavior.\n",
      "  _warn_prf(average, modifier, msg_start, len(result))\n",
      " 37%|███▋      | 11/30 [32:52<57:52, 182.75s/it]  "
     ]
    }
   ],
   "source": [
    "# load simulation data\n",
    "perfs_traits_sims = list()\n",
    "prec_traits_sims = list()\n",
    "df_gene_level_sims = list()\n",
    "perfs_unigene_traits_sims = list()\n",
    "prec_unigene_traits_sims = list()\n",
    "\n",
    "for i_sim in tqdm(range(n_sim)):\n",
    "\n",
    "    sim_file_name = os.path.join(sim_path,\"data_sim{}.txt\".format(i_sim))\n",
    "    sim_betas = np.loadtxt(sim_file_name, delimiter=',')\n",
    "    n_traits = sim_betas.shape[1]//3\n",
    "    scaled_true_betas, scaled_obs_betas, scaled_se = sim_betas[:,0:n_traits], sim_betas[:,n_traits:2*n_traits], sim_betas[:,2*n_traits:3*n_traits]\n",
    "    btrue = scaled_true_betas\n",
    "\n",
    "    # perform shrinkage\n",
    "    if method==\"ENET\":\n",
    "        breg,time_used = sf.shrink_enet(scaled_obs_betas,scaled_se,chr_ld,brkpts)\n",
    "    else:\n",
    "        breg,time_used = sf.shrink_nn(model,scaled_obs_betas,scaled_se,chr_ld,brkpts)\n",
    "    breg = breg.T\n",
    "    \n",
    "    # evaluate shrinkage performances\n",
    "    perfs_traits, prec_traits = sf.eval_snp_level(btrue, breg, perf_types, base_rec=base_rec)\n",
    "    perfs_traits = pd.DataFrame(np.array(perfs_traits), columns=perf_types, index=[\"sim{}_trait{}\".format(i_sim,i_trait+1) for i_trait in range(n_traits)])\n",
    "    prec_traits = np.array(prec_traits)\n",
    "    # store results\n",
    "    perfs_traits_sims.append(perfs_traits)\n",
    "    prec_traits_sims.append(prec_traits)\n",
    "\n",
    "    # multivariate clustering\n",
    "    if method==\"ENET\":\n",
    "        zero_cutoff = 0\n",
    "        beta_nz = breg[np.any(np.abs(breg)>0, axis=1),:]\n",
    "    else:\n",
    "        beta_nz, zero_cutoff = ml_mages.get_nz_effects(breg, fold_min=200, fold_max=10, \n",
    "                                              zero_cutoff=1e-3, adjust_max = 10, adjust_rate = 1.5)\n",
    "    truncate_Sigma, truncate_pi, pred_K, pred_cls = ml_mages.clustering(beta_nz, K = 20, n_runs=25)\n",
    "    \n",
    "    # get cls labels for all\n",
    "    breg_filtered = ml_mages.threshold_vals(breg, zero_cutoff=zero_cutoff)\n",
    "    cls_all = -np.ones(breg.shape[0])\n",
    "    is_nz = np.any(np.abs(breg_filtered)>0, axis=1)\n",
    "    cls_all[is_nz] = pred_cls\n",
    "\n",
    "    # GENE-LEVEL multivariate analysis\n",
    "    cls_all_possible_is_assoc = sf.get_cls_assoc(truncate_Sigma, rad_thre, eigval_times_thre)\n",
    "    df_gene_level = sf.eval_multi_gene_level(btrue,cls_all,pred_K,cls_all_possible_is_assoc,causal_types,genes_chr,sig_cls_thre)\n",
    "    # store results\n",
    "    df_gene_level_sims.append(df_gene_level)\n",
    "\n",
    "\n",
    "    # GENE-LEVEL univariate analysis\n",
    "    perf_unigene_traits, prec_unigene_traits = sf.eval_uni_gene_level(btrue, breg, method, chr_ld, genes_chr, sig_threshold=sig_threshold, base_rec=base_rec)\n",
    "    perfs_unigene_traits = pd.DataFrame(np.array(perf_unigene_traits), \n",
    "                                       columns=['fscore','aps','scorr'], \n",
    "                                       index=[\"sim{}_trait{}\".format(i_sim,i_trait+1) for i_trait in range(n_traits)])\n",
    "    prec_unigene_traits = np.array(prec_unigene_traits)\n",
    "    \n",
    "    # store results\n",
    "    perfs_unigene_traits_sims.append(perfs_unigene_traits)\n",
    "    prec_unigene_traits_sims.append(prec_unigene_traits)"
   ]
  },
  {
   "cell_type": "code",
   "execution_count": null,
   "id": "9ad0cfc9-a6a0-492d-9690-8593c434bc3d",
   "metadata": {},
   "outputs": [],
   "source": [
    "pd.concat(perfs_traits_sims).to_csv(os.path.join(output_path,\"snp_perf_{}.csv\".format(method)))\n",
    "np.savetxt(os.path.join(output_path,\"snp_prec_{}.txt\".format(method)),np.vstack(prec_traits_sims),)\n",
    "\n",
    "pd.concat([s.to_frame().T for s in df_gene_level_sims]).to_csv(os.path.join(output_path,\"gene_multi_perf_{}.csv\".format(method)))\n",
    "\n",
    "pd.concat(perfs_unigene_traits_sims).to_csv(os.path.join(output_path,\"gene_uni_perf_{}.csv\".format(method)))\n",
    "np.savetxt(os.path.join(output_path,\"gene_uni_prec_{}.txt\".format(method)),np.vstack(prec_unigene_traits_sims))\n"
   ]
  },
  {
   "cell_type": "markdown",
   "id": "0b02d97b-67d9-4557-8d2b-041a3f6a6f70",
   "metadata": {},
   "source": [
    "# Plot selected performance"
   ]
  },
  {
   "cell_type": "code",
   "execution_count": 10,
   "id": "ba41d50e-7eb9-493d-8c8b-e5d5a95c7fe4",
   "metadata": {},
   "outputs": [],
   "source": [
    "import matplotlib.pyplot as plt"
   ]
  },
  {
   "cell_type": "code",
   "execution_count": 11,
   "id": "f40e5e64-97f3-4cd8-80d1-9915db7aa484",
   "metadata": {},
   "outputs": [
    {
     "data": {
      "image/png": "[encoded data removed]",
      "text/plain": [
       "<Figure size 500x300 with 1 Axes>"
      ]
     },
     "metadata": {},
     "output_type": "display_data"
    }
   ],
   "source": [
    "# plot rmse\n",
    "fig, ax = plt.subplots(figsize=(5,3))\n",
    "pd.concat(perfs_traits_sims)['rmse'].plot(kind='box', ax=ax)\n",
    "pass"
   ]
  },
  {
   "cell_type": "code",
   "execution_count": 12,
   "id": "65b1cb2e-851a-4321-8248-4755bb0e7298",
   "metadata": {},
   "outputs": [
    {
     "data": {
      "image/png": "[encoded data removed]",
      "text/plain": [
       "<Figure size 500x500 with 1 Axes>"
      ]
     },
     "metadata": {},
     "output_type": "display_data"
    }
   ],
   "source": [
    "# plot PRC\n",
    "plt.figure(figsize=(5,5))\n",
    "avg = np.vstack(prec_traits_sims).mean(axis=0)[1:-1]\n",
    "plt.plot(base_rec[1:-1], avg, color='darkblue')\n",
    "std_dev = np.vstack(prec_traits_sims).std(axis=0)[1:-1]\n",
    "plt.fill_between(base_rec[1:-1], avg - std_dev, avg + std_dev, \n",
    "                 color='lightblue', alpha=0.2)\n",
    "plt.xlim([0,1])\n",
    "plt.ylim([0,1])\n",
    "plt.ylabel(\"Recall\")\n",
    "plt.xlabel(\"Precision\")\n",
    "plt.title(\"PR curve of SNP-level shrinkage ({}x{} simulations)\".format(n_sim,n_traits))\n",
    "pass"
   ]
  }
 ],
 "metadata": {
  "kernelspec": {
   "display_name": "Python 3 (ipykernel)",
   "language": "python",
   "name": "python3"
  },
  "language_info": {
   "codemirror_mode": {
    "name": "ipython",
    "version": 3
   },
   "file_extension": ".py",
   "mimetype": "text/x-python",
   "name": "python",
   "nbconvert_exporter": "python",
   "pygments_lexer": "ipython3",
   "version": "3.9.16"
  }
 },
 "nbformat": 4,
 "nbformat_minor": 5
}
